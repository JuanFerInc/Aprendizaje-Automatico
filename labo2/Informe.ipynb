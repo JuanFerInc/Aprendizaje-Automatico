{
 "cells": [
  {
   "cell_type": "markdown",
   "metadata": {},
   "source": [
    "# Entrega 2 - Árboles de decisión\n",
    "\n",
    "### Grupo 10:\n",
    "     - T. Rischewski  C.I. 4.923.024-2\n",
    "     - J. P. Filevich C.I. 5.002.310-5\n",
    "     - J. Ferrand C.I. 4.819.108-1\n",
    "\n"
   ]
  },
  {
   "cell_type": "markdown",
   "metadata": {},
   "source": [
    "## 1. Objetivo"
   ]
  },
  {
   "cell_type": "markdown",
   "metadata": {},
   "source": [
    "El objetivo de esta tarea es construir dos clasificadores utilizando los algoritmos ID3 y Random Forest. Se utilizará un subconjunto de los datos QSAR para entrenar y otro subconjunto para evaluar los algoritmos. \n",
    " El modelo QSAR contiene 1024 atributos (molecular fingerprints) que describen combinaciones de moléculas que resultan muy tóxica representada con el valor positivo y combinaciones que no resultan tan tóxicas representada con el valor negativo. De las tóxicas se encuentran 741 combinaciones y 8251 que no son tan tóxicas. Se puede observar que las clases están muy desbalanceadas, hay muchos más clasificados como negativos que como positivos.\n",
    "El éxito del aprendizaje se evaluará basado en cuánto de los casos positivo y negativos logra identificar dentro del set de evaluación, utilizando las medidas de accuracy, precisión,  recuperación y medida-F. Luego se comparan los resultados obtenidos con los de las implementaciones de Scikit-learn para esos algoritmos sobre QSAR. \n",
    "\n"
   ]
  },
  {
   "cell_type": "markdown",
   "metadata": {},
   "source": [
    "## 2. Diseño"
   ]
  },
  {
   "cell_type": "markdown",
   "metadata": {},
   "source": [
    "En el momento de implementar el clasificadores ID3 se optó por  mantenerse lo más cercano al algoritmo que se puede encontrar en el libro Machine Learning de Tom M. Mitchell, el cual fue presentado en clase de aprendizaje automático. Para el Random Forest se utilizó el algoritmo ID3 para generar los árboles que formarán parte del grupo de decisión, tomando para cada uno de los árboles una muestra aleatoria de datos QSAR con repetición, y se seleccionan atributos al azar para utilizar."
   ]
  },
  {
   "cell_type": "markdown",
   "metadata": {},
   "source": [
    "## 2.1 Preprocesamiento de datos"
   ]
  },
  {
   "cell_type": "markdown",
   "metadata": {},
   "source": [
    "Se utilizaron los datos QSAR originales, manteniendo la cantidad de atributos, los valores que toman y la evaluación de cada instancia. No existían atributos que falten valores, pero se pudo observar que los datos contienen ruido. Se optó por mantener esto considerando que el algoritmo ID3 permite generar un árbol de decisión aunque contenga datos contradictorios. Como los atributos (a excepción de la columna de salida) son binarios, no es necesario realizar ningún tipo de procesamiento antes de pasarlos al algoritmo."
   ]
  },
  {
   "cell_type": "markdown",
   "metadata": {},
   "source": [
    "\n",
    "## 2.2 Algoritmo ID3"
   ]
  },
  {
   "cell_type": "markdown",
   "metadata": {},
   "source": [
    "\n",
    "\n",
    "\n",
    "ID3 es un algoritmo greedy que genera un árbol de decisión comenzando por la raíz y agregando ramas o hojas a medida que recorre los datos.\n",
    "Definimos una función ID3 recursiva que en cada llamada evalúa los datos,  si todos los ejemplos son positivos o negativo se crea una hoja con el valor que corresponda.\n",
    "Si no son uniformes los valores, se verifica si quedan atributos para evaluar. En caso que existen más atributos, se crea una hoja con el valor más común de todos los ejemplos con los que fue llamado.\n",
    "En Caso que no se cumpla ninguna de las condiciones mencionada anteriormente, se selecciona el mejor atributo para el nodo. El atributo que se selecciona es el que mejor  fracciona los casos positivos y negativo. Para seleccionar el mejor atributo se utilizó el cálculo de ganancia como factor de decisión, el atributo que genere la mayor reducción de la entropía al particionar el conjunto por él da como resultado la mayor ganancia en una instancia de set de datos y será el atributo seleccionado. La función que se utilizó para calcular el mejor atributo es obtenerMejorAttr() que recibe como parámetro los datos con los que fue llamada la función ID3(), la posición del atributo se salida y los atributos que quedan por evaluar. \n",
    "````Python\n",
    "def obtenerMejorAttr(df, attributes):\n",
    "    entropiaCalculada = {}\n",
    "    for key in attributes:\n",
    "        entropyAtribute = entropia(df, key)\n",
    "        if entropyAtribute == 0:\n",
    "            return key\n",
    "        entropiaCalculada[key] = entropyAtribute\n",
    "    resKey = min(entropiaCalculada, key=entropiaCalculada.get)\n",
    "    return resKey\n",
    "````\n",
    "La funcion que calcula la entropía del set de datos y la entropía de los subconjuntos de ese set particionado por el atributo que se le paso como parametro, luego retorna la entropia de ese atributo sobre la muestra. \n",
    "````python\n",
    "def entropia(df, attribute, isBinary=True):\n",
    "    colConRes = df.keys()[-1]\n",
    "    if isBinary:\n",
    "\n",
    "        cantPositivo0 = len(df[attribute][df[attribute] == 0][df[colConRes] == 'positive'])\n",
    "        cantPositivo1 = len(df[attribute][df[attribute] == 1][df[colConRes] == 'positive'])\n",
    "        cantNegativo0 = len(df[attribute][df[attribute] == 0][df[colConRes] == 'negative'])\n",
    "        cantNegativo1 = len(df[attribute][df[attribute] == 1][df[colConRes] == 'negative'])\n",
    "\n",
    "        total0 = cantPositivo0 + cantNegativo0\n",
    "        total1 = cantPositivo1 + cantNegativo1\n",
    "\n",
    "        try:\n",
    "            if cantPositivo0 == 0:\n",
    "                res0 = (cantNegativo0 / total0) * log(cantNegativo0 / total0)\n",
    "            elif cantNegativo0 == 0:\n",
    "                res0 = (cantPositivo0 / total0) * log(cantPositivo0 / total0)\n",
    "            else:\n",
    "                res0 = (cantPositivo0 / total0) * log(cantPositivo0 / total0) + (cantNegativo0 / total0) * log(\n",
    "                    cantNegativo0 / total0)\n",
    "        except ZeroDivisionError as e:\n",
    "            res0 = 0\n",
    "        try:\n",
    "            if cantPositivo1 == 0:\n",
    "                res1 = (cantNegativo1 / total1) * log(cantNegativo1 / total1)\n",
    "            elif cantNegativo1 == 0:\n",
    "                res1 = (cantPositivo1 / total1) * log(cantPositivo1 / total1)\n",
    "            else:\n",
    "                res1 = (cantPositivo1 / total1) * log(cantPositivo1 / total1) + (cantNegativo1 / total1) *                     log(cantNegativo1 / total1)\n",
    "        except ZeroDivisionError as e:\n",
    "            res1 = 0\n",
    "        res = abs((total0 / (total0 + total1)) * res0 + (total1 / (total0 + total1)) * res1)\n",
    "    else:\n",
    "        entropyTotal = 0\n",
    "        # Busca en la ultima columna que este el resultado\n",
    "        target_variables = df[colConRes].unique()  # obtenemos las posibles evaluaciones pos,neg etc\n",
    "        variables = df[attribute].unique()  # posibles valores que puede tomar el atributo\n",
    "        for variable in variables:\n",
    "            entropy = 0\n",
    "            for target_variable in target_variables:\n",
    "                num = len(df[attribute][df[attribute] == variable][\n",
    "                              df[colConRes] == target_variable])  # cuenta la cantidad de tuplas con valor\n",
    "                den = len(df[attribute][df[attribute] == variable])  # cuenta la cantidad de filas en total\n",
    "                fraction = num / den\n",
    "                if fraction != 0:\n",
    "                    entropy += -fraction * log(fraction)\n",
    "            entropyTotal += entropy\n",
    "        res = abs(entropyTotal)\n",
    "\n",
    "    # arrayOfEntropy[attribute] = res\n",
    "    return res\n",
    "\n",
    "````\n",
    "Así mismo, se implementó como alternativa al cálculo de la entropía (medida de la impureza de los datos) el cálculo del Índice de Gini (siendo este un criterio para minimizar la probabilidad de clasificación errónea). Ambas medidas son no solo análogas entre sí, sino que coinciden numéricamente cuando la distribución de las clases de los datos se acerca a una distribución uniforme. La implementación del mencionado índice se encuentra en el archivo gini.py\n"
   ]
  },
  {
   "cell_type": "markdown",
   "metadata": {},
   "source": [
    "<h1><center> $Entropy = -\\sum_{j} p_j log_2p_j$ &emsp; $Gini = 1 - \\sum_{j} p_j^2$</h1></center>"
   ]
  },
  {
   "cell_type": "markdown",
   "metadata": {},
   "source": [
    "Luego ser seleccionado el atributo, para cada valor Vi que puede tomar el atributo, se extraen todas las instancia en la cual el valor del atributo V  es Vi; después de tener las instancias se realiza una llamada recursiva a la función ID3 con los nuevos ejemplos y los atributos menos el V.\n",
    "A continuación se muestra el código de la función ID3 que genera el árbol de decisión.\n",
    " \n",
    "````Python\n",
    "def ID3(ejemplos, attrIdxPredecir, atributos,maxNivel):\n",
    "    arbol = Arbol()\n",
    " \n",
    "    valores = obtenerValores(ejemplos, attrIdxPredecir)\n",
    " \n",
    "    #- If all Examples are positive, Return the single-node tree Root, with label = +\n",
    "    #- If all Examples are negative, Return the single-node tree Root, with label = -\n",
    "    if len(valores) == 1:\n",
    "        return valores[0] #si todos los ejemplos tiene el mismo valor etiqueto con ese valor\n",
    " \n",
    "    #- If Attributes is empty, Return the single-node tree Root, with label = most common value of Targetattribute in Examples\n",
    "    if len(atributos) == 0 or maxNivel == 0:\n",
    "        return calcResultadoMasComun(ejemplos, attrIdxPredecir)\n",
    "    #Caso con varias tuplas mismo valor atributo distinto resultado\n",
    "    mejorAtributo = getTargetAtribute(ejemplos, atributos)\n",
    " \n",
    "    arbol.data = mejorAtributo\n",
    "    for posibleValor in [0,1]:\n",
    "        nuevosAtributos =  atributos.copy()\n",
    "        # nuevosAtributos = copy.deepcopy(atributos)        \n",
    "        nuevosAtributos.remove(mejorAtributo)\n",
    "        ejemplosConEseValor = entradasConEseValor(ejemplos, mejorAtributo, posibleValor)        \n",
    "        if len(ejemplosConEseValor.index) == 0:\n",
    "            arbol.ramas[posibleValor] = calcResultadoMasComun(ejemplos, attrIdxPredecir)        \n",
    "        else:            \n",
    "            subArbol = ID3(ejemplosConEseValor, attrIdxPredecir, nuevosAtributos,maxNivel-1)\n",
    "            arbol.ramas[posibleValor] = subArbol\n",
    "    \n",
    "    return arbol\n",
    "````\n",
    " \n",
    "Como se puede observar en el código, se optó por no agregarle parámetros extras que manipulen la creación del árbol. Aplicar el algoritmo original sin aplicar ningún mecanismo de “poda” del árbol hará que haya sobreajuste dado que el árbol puede memorizar completamente los datos de entrenamiento. De todas formas, se optó por implementarlo de esta forma para compararlo con Random Forest y la implementación de árboles de decisión de Scikit-learn.\n",
    "Algunas variantes al algoritmo que fueron consideradas, que a su vez generarían hiperparámetros que habría que ajustar:\n",
    "\n",
    "\n",
    "\n",
    "\n",
    "\n",
    "- Definir una altura máxima para el árbol.\n",
    "- Qué medida utilizar para obtener el atributo de mayor ganancia (Entropía o Gini)\n",
    "- Implementar Pruning, un método para reducir la cantidad de rama asignando un nodo como hoja que toma el valor más común del subárbol que contiene.\n",
    "- Particional aún más los datos, generando 3 sets donde uno sería utilizado para entrenamiento, otro para evaluar cada tanto la capacidad de predicción que tiene el árbol y cortarlo el entrenamiento ni bien este comience a cometer más errores, y por último un set de datos que se utilizaría para evaluar el rendimiento.\n"
   ]
  },
  {
   "cell_type": "markdown",
   "metadata": {},
   "source": [
    "\n",
    "## 2.3 Algoritmo Random Forest"
   ]
  },
  {
   "cell_type": "markdown",
   "metadata": {},
   "source": [
    "El algoritmo de Random Forest se implementa por encima de ID3. Primero, se selecciona una cantidad m de árboles a ser generados. Luego se determina cuántas instancias y atributos serán utilizado para generar la sub muestra que se utilizará para entrenar cada árbol, por cada árbol nuevo se extrae una nueva muestra. A medida que se entrenan los árboles utilizando el algoritmo de ID3, se guardan en una lista. Esta lista será utilizada en el momento de evaluar, cada árbol dará su resultado y se realiza una votación para llegar a la decisión final.\n",
    "La función crearRandomForest es la que se encarga de obtener una submuestra de los datos, llamar a la función crearArbol m veces y guardar los árboles resultante en una lista. La función crearArbol selecciona un subconjunto de los atributos que serán los únicos considerados por el árbol, y genera el árbol en sí.\n",
    "````python\n",
    "def crearRandomForest(entrenamiento, tamanioMuestra, numArboles, numAtributos):\n",
    "    arboles = []\n",
    "    for i in range(numArboles):\n",
    "        muestra = subMuestra(entrenamiento, tamanioMuestra)\n",
    "        print('haciendo arbol', i)\n",
    "        arbol = crearArbol(muestra, numAtributos)\n",
    "        arboles.append(arbol)\n",
    "    return arboles\n",
    "````\n",
    "````Python\n",
    "def crearArbol(muestra, numAtributos):\n",
    "\n",
    "    totalAtributos = len(muestra.columns) - 1 #1024\n",
    "    \n",
    "    atributos = []\n",
    "    while len(atributos) < numAtributos:\n",
    "        index = random.randrange(totalAtributos) # valores entre 0 y 1023\n",
    "        if index not in atributos:\n",
    "            atributos.append(index)\n",
    "    arbol = crarArbolId3(muestra, totalAtributos, atributos)\n",
    "\n",
    "    return arbol\n",
    "\n",
    "````\n"
   ]
  },
  {
   "cell_type": "markdown",
   "metadata": {},
   "source": [
    "## 2.4 Evaluación"
   ]
  },
  {
   "cell_type": "markdown",
   "metadata": {},
   "source": [
    "Se particionaron los datos utilizando el 80% para entrenamiento y el 20% para testeo. Estos datos se seleccionaron de forma aleatoria, manteniendo la distribución de instancias negativas y positivas que se encuentran en el archivo original. Para lograr esto se utilizó la función train_test_split de Scikit-learn."
   ]
  },
  {
   "cell_type": "code",
   "execution_count": 8,
   "metadata": {},
   "outputs": [
    {
     "data": {
      "text/html": [
       "<div>\n",
       "<style scoped>\n",
       "    .dataframe tbody tr th:only-of-type {\n",
       "        vertical-align: middle;\n",
       "    }\n",
       "\n",
       "    .dataframe tbody tr th {\n",
       "        vertical-align: top;\n",
       "    }\n",
       "\n",
       "    .dataframe thead th {\n",
       "        text-align: right;\n",
       "    }\n",
       "</style>\n",
       "<table border=\"1\" class=\"dataframe\">\n",
       "  <thead>\n",
       "    <tr style=\"text-align: right;\">\n",
       "      <th></th>\n",
       "      <th>0</th>\n",
       "      <th>1</th>\n",
       "      <th>2</th>\n",
       "      <th>3</th>\n",
       "      <th>4</th>\n",
       "      <th>5</th>\n",
       "      <th>6</th>\n",
       "      <th>7</th>\n",
       "      <th>8</th>\n",
       "      <th>9</th>\n",
       "      <th>...</th>\n",
       "      <th>1015</th>\n",
       "      <th>1016</th>\n",
       "      <th>1017</th>\n",
       "      <th>1018</th>\n",
       "      <th>1019</th>\n",
       "      <th>1020</th>\n",
       "      <th>1021</th>\n",
       "      <th>1022</th>\n",
       "      <th>1023</th>\n",
       "      <th>1024</th>\n",
       "    </tr>\n",
       "  </thead>\n",
       "  <tbody>\n",
       "    <tr>\n",
       "      <th>0</th>\n",
       "      <td>0</td>\n",
       "      <td>1</td>\n",
       "      <td>0</td>\n",
       "      <td>0</td>\n",
       "      <td>0</td>\n",
       "      <td>1</td>\n",
       "      <td>0</td>\n",
       "      <td>0</td>\n",
       "      <td>0</td>\n",
       "      <td>0</td>\n",
       "      <td>...</td>\n",
       "      <td>0</td>\n",
       "      <td>0</td>\n",
       "      <td>0</td>\n",
       "      <td>1</td>\n",
       "      <td>0</td>\n",
       "      <td>0</td>\n",
       "      <td>0</td>\n",
       "      <td>0</td>\n",
       "      <td>0</td>\n",
       "      <td>negative</td>\n",
       "    </tr>\n",
       "    <tr>\n",
       "      <th>1</th>\n",
       "      <td>0</td>\n",
       "      <td>0</td>\n",
       "      <td>0</td>\n",
       "      <td>0</td>\n",
       "      <td>0</td>\n",
       "      <td>0</td>\n",
       "      <td>0</td>\n",
       "      <td>0</td>\n",
       "      <td>0</td>\n",
       "      <td>0</td>\n",
       "      <td>...</td>\n",
       "      <td>0</td>\n",
       "      <td>0</td>\n",
       "      <td>0</td>\n",
       "      <td>0</td>\n",
       "      <td>0</td>\n",
       "      <td>0</td>\n",
       "      <td>0</td>\n",
       "      <td>0</td>\n",
       "      <td>0</td>\n",
       "      <td>negative</td>\n",
       "    </tr>\n",
       "    <tr>\n",
       "      <th>2</th>\n",
       "      <td>0</td>\n",
       "      <td>0</td>\n",
       "      <td>0</td>\n",
       "      <td>0</td>\n",
       "      <td>0</td>\n",
       "      <td>0</td>\n",
       "      <td>0</td>\n",
       "      <td>0</td>\n",
       "      <td>0</td>\n",
       "      <td>0</td>\n",
       "      <td>...</td>\n",
       "      <td>0</td>\n",
       "      <td>0</td>\n",
       "      <td>0</td>\n",
       "      <td>0</td>\n",
       "      <td>0</td>\n",
       "      <td>0</td>\n",
       "      <td>0</td>\n",
       "      <td>0</td>\n",
       "      <td>0</td>\n",
       "      <td>negative</td>\n",
       "    </tr>\n",
       "    <tr>\n",
       "      <th>3</th>\n",
       "      <td>1</td>\n",
       "      <td>0</td>\n",
       "      <td>0</td>\n",
       "      <td>0</td>\n",
       "      <td>0</td>\n",
       "      <td>0</td>\n",
       "      <td>0</td>\n",
       "      <td>0</td>\n",
       "      <td>0</td>\n",
       "      <td>0</td>\n",
       "      <td>...</td>\n",
       "      <td>0</td>\n",
       "      <td>0</td>\n",
       "      <td>0</td>\n",
       "      <td>0</td>\n",
       "      <td>0</td>\n",
       "      <td>0</td>\n",
       "      <td>0</td>\n",
       "      <td>0</td>\n",
       "      <td>0</td>\n",
       "      <td>negative</td>\n",
       "    </tr>\n",
       "    <tr>\n",
       "      <th>4</th>\n",
       "      <td>1</td>\n",
       "      <td>0</td>\n",
       "      <td>0</td>\n",
       "      <td>0</td>\n",
       "      <td>0</td>\n",
       "      <td>0</td>\n",
       "      <td>0</td>\n",
       "      <td>0</td>\n",
       "      <td>0</td>\n",
       "      <td>0</td>\n",
       "      <td>...</td>\n",
       "      <td>0</td>\n",
       "      <td>0</td>\n",
       "      <td>0</td>\n",
       "      <td>0</td>\n",
       "      <td>0</td>\n",
       "      <td>0</td>\n",
       "      <td>0</td>\n",
       "      <td>0</td>\n",
       "      <td>0</td>\n",
       "      <td>negative</td>\n",
       "    </tr>\n",
       "  </tbody>\n",
       "</table>\n",
       "<p>5 rows × 1025 columns</p>\n",
       "</div>"
      ],
      "text/plain": [
       "   0     1     2     3     4     5     6     7     8     9     ...  1015  \\\n",
       "0     0     1     0     0     0     1     0     0     0     0  ...     0   \n",
       "1     0     0     0     0     0     0     0     0     0     0  ...     0   \n",
       "2     0     0     0     0     0     0     0     0     0     0  ...     0   \n",
       "3     1     0     0     0     0     0     0     0     0     0  ...     0   \n",
       "4     1     0     0     0     0     0     0     0     0     0  ...     0   \n",
       "\n",
       "   1016  1017  1018  1019  1020  1021  1022  1023      1024  \n",
       "0     0     0     1     0     0     0     0     0  negative  \n",
       "1     0     0     0     0     0     0     0     0  negative  \n",
       "2     0     0     0     0     0     0     0     0  negative  \n",
       "3     0     0     0     0     0     0     0     0  negative  \n",
       "4     0     0     0     0     0     0     0     0  negative  \n",
       "\n",
       "[5 rows x 1025 columns]"
      ]
     },
     "execution_count": 8,
     "metadata": {},
     "output_type": "execute_result"
    }
   ],
   "source": [
    "import pandas as pd\n",
    "import numpy as np\n",
    "from main import *\n",
    "\n",
    "input_file = \"qsar_oral_toxicity.csv\"\n",
    "dataset = pd.read_csv(input_file, header=None, delimiter=\";\")\n",
    "l = len(dataset.columns) - 1\n",
    "y = dataset[l]  # la columna con c(x) ~ la target function\n",
    "\n",
    "X, X_test, y_train, y_test = train_test_split(dataset, y, test_size=0.20, random_state=42)  # 20% test y 80% training\n",
    "X.reset_index(drop=True, inplace=True)\n",
    "\n",
    "X.head()\n"
   ]
  },
  {
   "cell_type": "markdown",
   "metadata": {},
   "source": [
    "## 3. Experimentación"
   ]
  },
  {
   "cell_type": "markdown",
   "metadata": {},
   "source": [
    "En la experimentación se correrán los algoritmos que fueron implementados y se compraran contra los de Sklearn. Primero se correrá el algoritmo ID3  para obtener su resultado, luego se variarán los hiperparámetros para el Random Forest, seleccionando el mejor para generar el Random Forest y por último se ejecutará el árbol de decisión y Random forest de la librería Sklearn."
   ]
  },
  {
   "cell_type": "markdown",
   "metadata": {},
   "source": [
    "A continuación se muestra el código que genera el árbol según el algoritmo ID3 para el conjunto de datos de entrenamiento. A partir del árbol se realiza una predicción para los datos de evaluación y se compara con los valores reales mostrando el acierto, precisión, recuperación y medida-F."
   ]
  },
  {
   "cell_type": "code",
   "execution_count": 2,
   "metadata": {},
   "outputs": [
    {
     "name": "stdout",
     "output_type": "stream",
     "text": [
      "Confusion matrix, without normalization\n",
      "[[1581   61]\n",
      " [  84   73]]\n",
      "              precision    recall  f1-score   support\n",
      "\n",
      "    negative       0.95      0.96      0.96      1642\n",
      "    positive       0.54      0.46      0.50       157\n",
      "\n",
      "    accuracy                           0.92      1799\n",
      "   macro avg       0.75      0.71      0.73      1799\n",
      "weighted avg       0.91      0.92      0.92      1799\n",
      "\n"
     ]
    },
    {
     "data": {
      "image/png": "[encoded data removed]",
      "text/plain": [
       "<Figure size 720x720 with 2 Axes>"
      ]
     },
     "metadata": {
      "needs_background": "light"
     },
     "output_type": "display_data"
    }
   ],
   "source": [
    "# Generar el arbol\n",
    "n = len(X.index)\n",
    "l = len(X.columns) - 1  # 1024\n",
    "attrIdxPredecir = l\n",
    "atributos = list(range(l))  # [0, 1, 2, .. 1023])\n",
    "arbol= crearArbol(X, attrIdxPredecir, atributos)\n",
    "\n",
    "# Realizar la prediccion\n",
    "y_pred = predecir(arbol, X_test)        \n",
    "    \n",
    "cm = confusion_matrix(y_test, y_pred)\n",
    "plot_confusion_matrix(cm, classes = ['Negative', 'Positive'],\n",
    "                      title = 'Arbol ID3 Matriz de Confusion')\n",
    "print(classification_report(y_test, y_pred))\n"
   ]
  },
  {
   "cell_type": "markdown",
   "metadata": {},
   "source": [
    "El random forest tiene tres hiperparámetros para determinar: la cantidad de ejemplos del dataset, la cantidad de árboles y la cantidad de atributos. Para seleccionarlos se optó por utilizar validación simple. Se separó el conjunto de entrenamiento nuevamente en conjuntos de entrenamiento y validación; donde se entrenan los random forest con distintos hiperparámetros seleccionados de un conjunto de posibles valores, en el conjunto de entrenamiento; se evalúa sobre el de verificación; y calculamos la medida-f para cada uno. Esta medida-f se usa como valor de performance para luego seleccionar los hiperparámetros que construyen al bosque con mejor valor.\n"
   ]
  },
  {
   "cell_type": "code",
   "execution_count": 3,
   "metadata": {
    "scrolled": true
   },
   "outputs": [
    {
     "name": "stdout",
     "output_type": "stream",
     "text": [
      "(0.5, 100, 30)      0.4808095290276726\n",
      "(0.5, 100, 100)      0.5474228527134867\n",
      "(0.2, 100, 100)      0.5493991809462226\n",
      "(0.5, 20, 30)      0.49607094563405213\n",
      "(0.2, 20, 300)      0.4920316641093597\n",
      "La mejor combinacion de hypers fue: (0.5, 100, 30)\n"
     ]
    }
   ],
   "source": [
    "# trabajamos solo con un subconjunto del conjunto de entrenamiento para que sea mas rapido\n",
    "X_train_hyper, X_test_hyper, y_train_hyper, y_test_hyper = train_test_split(X, y_train, test_size=0.90, random_state=42)\n",
    "\n",
    "scores = []\n",
    "hyperparametros = [(0.5,100,30),(0.5,100,100),(0.2,100,100),(0.5,20,30),(0.2,20,300)] \n",
    "# Tuplas (proporcionMuestra, numArboles, numAtributos)\n",
    "\n",
    "\n",
    "for hyperpar in hyperparametros:\n",
    "    score = val_score_random_forest(X_train_hyper, X_test_hyper, y_train_hyper, y_test_hyper, hyperpar[0], hyperpar[1], hyperpar[2])\n",
    "    scores.append(score)\n",
    "    print(hyperpar, \"    \", score)\n",
    "\n",
    "i = np.argmax(score)\n",
    "\n",
    "print('La mejor combinacion de hypers fue:', hyperparametros[i])\n",
    "\n",
    "\n",
    "proporcionMuestra, numArboles, numAtributos = hyperparametros[i]\n"
   ]
  },
  {
   "cell_type": "markdown",
   "metadata": {},
   "source": [
    "Generamos el random forest con los hiperparámetros seleccionados previamente."
   ]
  },
  {
   "cell_type": "code",
   "execution_count": 4,
   "metadata": {},
   "outputs": [
    {
     "name": "stdout",
     "output_type": "stream",
     "text": [
      "Confusion matrix, without normalization\n",
      "[[1642    0]\n",
      " [ 154    3]]\n",
      "              precision    recall  f1-score   support\n",
      "\n",
      "    negative       0.91      1.00      0.96      1642\n",
      "    positive       1.00      0.02      0.04       157\n",
      "\n",
      "    accuracy                           0.91      1799\n",
      "   macro avg       0.96      0.51      0.50      1799\n",
      "weighted avg       0.92      0.91      0.88      1799\n",
      "\n"
     ]
    },
    {
     "data": {
      "image/png": "[encoded data removed]",
      "text/plain": [
       "<Figure size 720x720 with 2 Axes>"
      ]
     },
     "metadata": {
      "needs_background": "light"
     },
     "output_type": "display_data"
    }
   ],
   "source": [
    "# Generar el bosque\n",
    "\n",
    "arboles = rf.crearRandomForest_Wrapper(X, proporcionMuestra, numArboles, numAtributos, conPrints=True, numOfThreads=4)\n",
    "\n",
    "y_pred = rf.predecirRandomForest(arboles, X_test)\n",
    "\n",
    "cm = confusion_matrix(y_test, y_pred)\n",
    "plot_confusion_matrix(cm, classes = ['Negative', 'Positive'],\n",
    "                      title = 'Random Forest Matriz de Confusion')\n",
    "print(classification_report(y_test, y_pred))\n"
   ]
  },
  {
   "cell_type": "markdown",
   "metadata": {},
   "source": [
    "\n",
    "A modo de comparación, se presentan los resultados de aplicar las implementaciones de scikit-learn para árboles de decisión y random forest sobre QSAR\n"
   ]
  },
  {
   "cell_type": "code",
   "execution_count": 9,
   "metadata": {},
   "outputs": [
    {
     "name": "stdout",
     "output_type": "stream",
     "text": [
      "Confusion matrix, without normalization\n",
      "[[1537  105]\n",
      " [  78   79]]\n",
      "              precision    recall  f1-score   support\n",
      "\n",
      "    negative       0.95      0.94      0.94      1642\n",
      "    positive       0.43      0.50      0.46       157\n",
      "\n",
      "    accuracy                           0.90      1799\n",
      "   macro avg       0.69      0.72      0.70      1799\n",
      "weighted avg       0.91      0.90      0.90      1799\n",
      "\n"
     ]
    },
    {
     "data": {
      "image/png": "[encoded data removed]",
      "text/plain": [
       "<Figure size 720x720 with 2 Axes>"
      ]
     },
     "metadata": {
      "needs_background": "light"
     },
     "output_type": "display_data"
    }
   ],
   "source": [
    "from sklearn.tree import DecisionTreeClassifier\n",
    "\n",
    "X_train = X.drop(1024, axis=1)\n",
    "X_test = X_test.drop(1024, axis=1)\n",
    "classifier = DecisionTreeClassifier()\n",
    "classifier.fit(X_train, y_train)\n",
    "\n",
    "y_pred = classifier.predict(X_test)\n",
    "\n",
    "cm = confusion_matrix(y_test, y_pred)\n",
    "plot_confusion_matrix(cm, classes = ['Negative', 'Positive'],\n",
    "                      title = 'Abol de Decicion Sklearn Matriz de Confusion')\n",
    "print(classification_report(y_test, y_pred))\n"
   ]
  },
  {
   "cell_type": "code",
   "execution_count": 6,
   "metadata": {},
   "outputs": [
    {
     "name": "stdout",
     "output_type": "stream",
     "text": [
      "Confusion matrix, without normalization\n",
      "[[1621   21]\n",
      " [  94   63]]\n",
      "              precision    recall  f1-score   support\n",
      "\n",
      "    negative       0.95      0.99      0.97      1642\n",
      "    positive       0.75      0.40      0.52       157\n",
      "\n",
      "    accuracy                           0.94      1799\n",
      "   macro avg       0.85      0.69      0.74      1799\n",
      "weighted avg       0.93      0.94      0.93      1799\n",
      "\n"
     ]
    },
    {
     "data": {
      "image/png": "[encoded data removed]",
      "text/plain": [
       "<Figure size 720x720 with 2 Axes>"
      ]
     },
     "metadata": {
      "needs_background": "light"
     },
     "output_type": "display_data"
    }
   ],
   "source": [
    "from sklearn.ensemble import RandomForestClassifier\n",
    "\n",
    "#Create a Gaussian Classifier\n",
    "clf=RandomForestClassifier(n_estimators=100)\n",
    "\n",
    "#Train the model using the training sets y_pred=clf.predict(X_test)\n",
    "clf.fit(X_train,y_train)\n",
    "\n",
    "y_pred=clf.predict(X_test)\n",
    "\n",
    "cm = confusion_matrix(y_test, y_pred)\n",
    "plot_confusion_matrix(cm, classes = ['Negative', 'Positive'],\n",
    "                      title = 'Random Forest Sklearn Matriz de Confusion')\n",
    "print(classification_report(y_test, y_pred))\n"
   ]
  },
  {
   "cell_type": "markdown",
   "metadata": {},
   "source": [
    "![Valoracion de todas las columnas](img/Figure_1b.png \"Title\")\n",
    "![Top 25 columnas mejor valoradas](img/Figure_2.png \"Title\")\n"
   ]
  },
  {
   "cell_type": "markdown",
   "metadata": {},
   "source": [
    "## 4. Conclusión"
   ]
  },
  {
   "cell_type": "markdown",
   "metadata": {},
   "source": [
    "Al correr nuestra implementación de ID3  se observa que obtiene muy buenas medidas de precisión, recuperación para la clase negative (cercanas al 0.96), y medidas muy malas para la clase positive (cercanas al 0.50). Es muy bueno clasificando a la clase con más ejemplos pero no lo es tanto con la otra.\n",
    "\n",
    "Comparando los resultado con los obtenidos por el DecisionTreeClassifier de scikit learn se puede observar que ambos tienen resultados muy similares. Nuestra implementación obtuvo un acierto de 0.92, con medida-f de 0.73 contra un acierto de 0.90 y medida-f de 0.70 para la implementación de scikit learn. Una diferencia muy grande que sí hay entre las dos implementaciones está en el tiempo de ejecución, nuestro algoritmo tarda considerablemente más tiempo en ejecutarse que el de scikit learn.\n",
    "\n",
    "Al correr la validación para ver qué hiperparámetros elegir para random forest, se puede observar que no parece haber una gran diferencia en los resultados obtenidos por los random forest con los diferentes conjuntos de hiperparámetros. En todos los casos se obtuvieron valores de medida-f comprendidos entre 0.48 y 0.55. Entre todos los probados, el que da mejores resultados es el que usa un 50% de los ejemplos, 100 árboles y 100 atributos. Los casos en los que varía solamente la proporción de la muestra, o sólo la cantidad de árboles, no varía mucho el resultado.  Se ve un aumento del valor obtenido entre cuando tienen los mismos otros hiperparametros y solo aumenta la cantidad de árboles.\n",
    "\n",
    "Sobre los resultados obtenidos por nuestra implementación de random forest se puede observar que clasifica muy bien a los ejemplos negativos y muy mal a los ejemplos positivos. A los elementos de la clase minoritaria los clasifica a casi todos incorrectamente, lo que lleva a que tenga un muy bajo valor de recuperación y por lo tanto también medida-f. De todas formas, tiene un acierto del 0.91 que es bastante elevado, debido a que clasifica a los elementos de la clase mayoritaria correctamente. Para este caso la medida del acierto no es un buen indicador de que tan bien se desempeña el algoritmo.\n",
    "\n",
    "Comparando con los resultados obtenidos por el RandomForestClassifier de scikit learn, nuestra implementación obtiene resultados mucho peores. Los resultados obtenidos por el algoritmo de scikit learn son cercanos a los de árboles de decisión, con 0.94 de acierto y 0.74 de medida-f.\n",
    "\n",
    "Comparando los resultados de RandomForestClassifier contra los de DecisionTreeClassifier se puede observar que el random forest obtiene un mayor acierto y medida-f; pero no es tan bueno identificando a los ejemplos positivos, lo que se observa en un mayor recall.\n",
    "\n",
    "Comprando el Random Forest y ID3 implementado se puede observar que el Random Forest tiene mejor precisión  en los casos positivos que el ID3, pero en la mayoría de los casos que identificó como positivos resultaron ser negativos, dando una recuperación muy baja. Sin embargo con el algoritmo ID3 se obtiene una precisión más chica de casos positivos pero la precisión de estos casos es mucho mejor, identificando un 54% como falso positivo. No es una figura muy buena pero es mejor  que identificar el 98% como falso positivo. En los casos negativos Random Forest obtiene mejor resultado, no identifica ningún caso como falso negativo  mientras que el algoritmo ID3 identifica un 4%.\n",
    "En general se puede observar que los algoritmos son buenos para identificar casos negativos pero en el momento de reconocer casos positivos, el clasificador ID3 tuvo mejores resultados. Esto puede darse por el desbalance de los datos pero si la idea era identificar casos positivos con certeza, hace falta más datos que den como resultado valores positivo. \n",
    "Durante la implementación del código y análisis de los datos de esta tarea nos topamos con varias posibilidades de mejorar la calidad del código y los datos que se utilizaron que al final no fueron descartadas. Existió la posibilidad de estratificar los datos dado que estos eran mayormente resultados negativos. Esto llevaría resultados diferente ya que los árboles de decisiones serían distintos.\n",
    "También existe la posibilidad de probar con más variaciones en los hiperparámetros para obtener un mejor resultado en el Random Forest. Si bien esto era una posibilidad, dado el alto costo computacional se optó por seleccionar algunos posibles valores que dieron buen resultado mientras que testeamos el código. En el júpiter se intentó dar una idea de la evolución del Random Forest obtenido.\n",
    "Una de las razones por la que el tiempo de cómputo es alto, es por la implementación del código que utilizamos. Al principio se inició con una idea de generar un algoritmo lo más general posible que sin importar los posibles valores que pueden tomar los atributos, se generaría un árbol con en algoritmo ID3. En el momento empezar a analizar los datos y correr el código, nos dimos cuenta que demoraba mucho en realizar algunos cálculos y empezamos a optimizar y ajustar el código a los datos que teníamos. Algunas partes mejorar y otras partes quedaron por mejorase.\n"
   ]
  }
 ],
 "metadata": {
  "kernelspec": {
   "display_name": "Python 3",
   "language": "python",
   "name": "python3"
  },
  "language_info": {
   "codemirror_mode": {
    "name": "ipython",
    "version": 3
   },
   "file_extension": ".py",
   "mimetype": "text/x-python",
   "name": "python",
   "nbconvert_exporter": "python",
   "pygments_lexer": "ipython3",
   "version": "3.8.2"
  }
 },
 "nbformat": 4,
 "nbformat_minor": 2
}
